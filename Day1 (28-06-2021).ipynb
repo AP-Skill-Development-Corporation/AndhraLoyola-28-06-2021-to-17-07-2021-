{
 "cells": [
  {
   "cell_type": "code",
   "execution_count": null,
   "metadata": {},
   "outputs": [],
   "source": [
    "# Day objectives:\n",
    "- registration\n",
    "- installtion\n",
    "- python introduction"
   ]
  },
  {
   "cell_type": "markdown",
   "metadata": {},
   "source": [
    "- Python registration: http://engineering.apssdc.in/register/\n",
    "- Program type: **Workshops**\n",
    "- program : **python programming online 2021-22**\n",
    "- course: **Python**"
   ]
  },
  {
   "cell_type": "markdown",
   "metadata": {},
   "source": [
    "#### software: anaconda----->jupyter notebook\n",
    "\n",
    "#### mobile users:\n",
    "- online jupyter notebook- https://jupyter.org/try\n",
    "- mobile app---->https://play.google.com/store/apps/details?id=ru.iiec.pydroid3\n",
    "\n",
    "#### laptop users:\n",
    "- anaconda software--->https://www.anaconda.com/products/individual\n",
    "- installtion steps for windows---->https://docs.anaconda.com/anaconda/install/windows/"
   ]
  },
  {
   "cell_type": "code",
   "execution_count": null,
   "metadata": {},
   "outputs": [],
   "source": [
    "shift+enter------->to run the programming"
   ]
  },
  {
   "cell_type": "markdown",
   "metadata": {},
   "source": [
    "# python Introduction:\n",
    "\n",
    "## what is python?\n",
    "- python is a simple,general purpose,interpreted scripting language,highlevel,object-oriented programming language.\n",
    "    - simple--->simple syntax,easy learn\n",
    "    - general purpose\n",
    "    - interpreted -->line by line checking--->it makes debugging is easy\n",
    "    - highlevel----->human understandable\n",
    "    - object oriented programming\n",
    "    \n",
    "- python is developed by Guido Van Rossum\n",
    "- he started implementing python in 1989, and released in 1991.\n",
    "\n",
    "## why python named as python?\n",
    "- the name came from BBC's comedy television show--->Monty Python's Flying Circus'\n"
   ]
  },
  {
   "cell_type": "code",
   "execution_count": 3,
   "metadata": {},
   "outputs": [
    {
     "name": "stdout",
     "output_type": "stream",
     "text": [
      "hii\n",
      "hello everyone\n"
     ]
    },
    {
     "ename": "NameError",
     "evalue": "name 'hfcvjjk' is not defined",
     "output_type": "error",
     "traceback": [
      "\u001b[1;31m---------------------------------------------------------------------------\u001b[0m",
      "\u001b[1;31mNameError\u001b[0m                                 Traceback (most recent call last)",
      "\u001b[1;32m<ipython-input-3-8eb117a86614>\u001b[0m in \u001b[0;36m<module>\u001b[1;34m\u001b[0m\n\u001b[0;32m      1\u001b[0m \u001b[0mprint\u001b[0m\u001b[1;33m(\u001b[0m\u001b[1;34m\"hii\"\u001b[0m\u001b[1;33m)\u001b[0m\u001b[1;33m\u001b[0m\u001b[1;33m\u001b[0m\u001b[0m\n\u001b[0;32m      2\u001b[0m \u001b[0mprint\u001b[0m\u001b[1;33m(\u001b[0m\u001b[1;34m\"hello everyone\"\u001b[0m\u001b[1;33m)\u001b[0m\u001b[1;33m\u001b[0m\u001b[1;33m\u001b[0m\u001b[0m\n\u001b[1;32m----> 3\u001b[1;33m \u001b[0mhfcvjjk\u001b[0m\u001b[1;33m\u001b[0m\u001b[1;33m\u001b[0m\u001b[0m\n\u001b[0m\u001b[0;32m      4\u001b[0m \u001b[0mgfdfhjk\u001b[0m\u001b[1;33m\u001b[0m\u001b[1;33m\u001b[0m\u001b[0m\n\u001b[0;32m      5\u001b[0m \u001b[0mgfhvjbkn\u001b[0m\u001b[1;33m\u001b[0m\u001b[1;33m\u001b[0m\u001b[0m\n",
      "\u001b[1;31mNameError\u001b[0m: name 'hfcvjjk' is not defined"
     ]
    }
   ],
   "source": [
    "print(\"hii\")\n",
    "print(\"hello everyone\")\n",
    "hfcvjjk\n",
    "gfdfhjk\n",
    "gfhvjbkn\n",
    "print(\"hello\")"
   ]
  },
  {
   "cell_type": "code",
   "execution_count": null,
   "metadata": {},
   "outputs": [],
   "source": [
    "in python no need of semicolon"
   ]
  },
  {
   "cell_type": "markdown",
   "metadata": {},
   "source": [
    "- whatsapp group link:\n",
    "https://chat.whatsapp.com/F8Wn9jAp49h6cw2vXZCyAf"
   ]
  },
  {
   "cell_type": "markdown",
   "metadata": {},
   "source": [
    "- Recorded sessions link (daily)\n",
    "https://drive.google.com/drive/folders/1H_FIP8vZQfq5xcctLmg-7J8auTJxyR-F?usp=sharing\n",
    "\n",
    "- daily jupyter notebooks(github link)\n",
    "https://github.com/AP-Skill-Development-Corporation/AndhraLoyola-28-06-2021-to-17-07-2021-.git\n"
   ]
  },
  {
   "cell_type": "code",
   "execution_count": null,
   "metadata": {},
   "outputs": [],
   "source": []
  },
  {
   "cell_type": "markdown",
   "metadata": {},
   "source": []
  },
  {
   "cell_type": "code",
   "execution_count": null,
   "metadata": {},
   "outputs": [],
   "source": []
  }
 ],
 "metadata": {
  "kernelspec": {
   "display_name": "Python 3",
   "language": "python",
   "name": "python3"
  },
  "language_info": {
   "codemirror_mode": {
    "name": "ipython",
    "version": 3
   },
   "file_extension": ".py",
   "mimetype": "text/x-python",
   "name": "python",
   "nbconvert_exporter": "python",
   "pygments_lexer": "ipython3",
   "version": "3.7.3"
  }
 },
 "nbformat": 4,
 "nbformat_minor": 2
}
