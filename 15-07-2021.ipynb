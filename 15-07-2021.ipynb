{
 "cells": [
  {
   "cell_type": "code",
   "execution_count": null,
   "metadata": {},
   "outputs": [],
   "source": [
    "# matplotlib\n",
    "# oop's concept"
   ]
  },
  {
   "cell_type": "code",
   "execution_count": null,
   "metadata": {},
   "outputs": [],
   "source": [
    "#oop's in python:\n",
    "- object oriented programming language\n",
    "- python is a object oriented programming langauge\n",
    "#concepts:\n",
    "- class\n",
    "- object\n",
    "- constructors\n",
    "- inheritance\n",
    "- packages and modules using oop's"
   ]
  },
  {
   "cell_type": "code",
   "execution_count": null,
   "metadata": {},
   "outputs": [],
   "source": [
    "# class:\n",
    "- class is a design or blueprint\n",
    "- class is collection of objects\n",
    "- class is a collection of variables and methods\n",
    "- variable:it is a name of the memorylocation\n",
    "- function:it is collection of statements\n",
    "- method:if function existed inside the class then it is called method\n",
    "#syn:\n",
    "class class_name:\n",
    "    list of variables\n",
    "    list of methods\n",
    "    \n",
    "class---->keyword\n",
    "class_name--->name of the class"
   ]
  },
  {
   "cell_type": "code",
   "execution_count": 1,
   "metadata": {},
   "outputs": [],
   "source": [
    "class Hii:\n",
    "    a=34.56\n",
    "    b=\"python\"\n",
    "    def hello(): #method\n",
    "        print(\"iam method\")"
   ]
  },
  {
   "cell_type": "code",
   "execution_count": 2,
   "metadata": {},
   "outputs": [
    {
     "data": {
      "text/plain": [
       "34.56"
      ]
     },
     "execution_count": 2,
     "metadata": {},
     "output_type": "execute_result"
    }
   ],
   "source": [
    "Hii.a  # Hii ---->class_name ,'.' is a message calling operator"
   ]
  },
  {
   "cell_type": "code",
   "execution_count": 3,
   "metadata": {},
   "outputs": [
    {
     "data": {
      "text/plain": [
       "'python'"
      ]
     },
     "execution_count": 3,
     "metadata": {},
     "output_type": "execute_result"
    }
   ],
   "source": [
    "Hii.b"
   ]
  },
  {
   "cell_type": "code",
   "execution_count": 4,
   "metadata": {},
   "outputs": [
    {
     "name": "stdout",
     "output_type": "stream",
     "text": [
      "iam method\n"
     ]
    }
   ],
   "source": [
    "Hii.hello()"
   ]
  },
  {
   "cell_type": "code",
   "execution_count": null,
   "metadata": {},
   "outputs": [],
   "source": [
    "#object:\n",
    "- object is a instance of a class (sample copy of a class)\n",
    "- every object will have certain attributes and behaviour\n",
    "ex:human\n",
    "    (height,age,name)---->attributes--->variables\n",
    "    (dancing,talking,eating)---->behaviour---->methods\n",
    "- object is a realtime entity\n",
    "#syn:\n",
    "obj_name=class_name\n",
    "obj_name=class_name()"
   ]
  },
  {
   "cell_type": "code",
   "execution_count": 5,
   "metadata": {},
   "outputs": [],
   "source": [
    "class Hii:\n",
    "    a=34.56\n",
    "    b=\"python\"\n",
    "    def hello(): #method\n",
    "        print(\"iam method\")"
   ]
  },
  {
   "cell_type": "code",
   "execution_count": 8,
   "metadata": {},
   "outputs": [
    {
     "name": "stdout",
     "output_type": "stream",
     "text": [
      "34.56\n",
      "python\n",
      "iam method\n"
     ]
    }
   ],
   "source": [
    "obj=Hii\n",
    "print(obj.a)\n",
    "print(obj.b)\n",
    "obj.hello()"
   ]
  },
  {
   "cell_type": "code",
   "execution_count": 10,
   "metadata": {},
   "outputs": [
    {
     "name": "stdout",
     "output_type": "stream",
     "text": [
      "34.56\n",
      "python\n",
      "iam method\n"
     ]
    }
   ],
   "source": [
    "obj1=Hii\n",
    "print(obj1.a)\n",
    "print(obj1.b)\n",
    "obj1.hello()"
   ]
  },
  {
   "cell_type": "code",
   "execution_count": 11,
   "metadata": {},
   "outputs": [
    {
     "name": "stdout",
     "output_type": "stream",
     "text": [
      "34.56\n",
      "python\n"
     ]
    },
    {
     "ename": "TypeError",
     "evalue": "hello() takes 0 positional arguments but 1 was given",
     "output_type": "error",
     "traceback": [
      "\u001b[1;31m---------------------------------------------------------------------------\u001b[0m",
      "\u001b[1;31mTypeError\u001b[0m                                 Traceback (most recent call last)",
      "\u001b[1;32m<ipython-input-11-570b71b514cc>\u001b[0m in \u001b[0;36m<module>\u001b[1;34m\u001b[0m\n\u001b[0;32m      2\u001b[0m \u001b[0mprint\u001b[0m\u001b[1;33m(\u001b[0m\u001b[0mobj2\u001b[0m\u001b[1;33m.\u001b[0m\u001b[0ma\u001b[0m\u001b[1;33m)\u001b[0m\u001b[1;33m\u001b[0m\u001b[1;33m\u001b[0m\u001b[0m\n\u001b[0;32m      3\u001b[0m \u001b[0mprint\u001b[0m\u001b[1;33m(\u001b[0m\u001b[0mobj2\u001b[0m\u001b[1;33m.\u001b[0m\u001b[0mb\u001b[0m\u001b[1;33m)\u001b[0m\u001b[1;33m\u001b[0m\u001b[1;33m\u001b[0m\u001b[0m\n\u001b[1;32m----> 4\u001b[1;33m \u001b[0mobj2\u001b[0m\u001b[1;33m.\u001b[0m\u001b[0mhello\u001b[0m\u001b[1;33m(\u001b[0m\u001b[1;33m)\u001b[0m\u001b[1;33m\u001b[0m\u001b[1;33m\u001b[0m\u001b[0m\n\u001b[0m",
      "\u001b[1;31mTypeError\u001b[0m: hello() takes 0 positional arguments but 1 was given"
     ]
    }
   ],
   "source": [
    "obj2=Hii()  #() treated as a one default argument\n",
    "print(obj2.a)\n",
    "print(obj2.b)\n",
    "obj2.hello()"
   ]
  },
  {
   "cell_type": "code",
   "execution_count": null,
   "metadata": {},
   "outputs": [],
   "source": [
    "- for one class we can create multiple objects"
   ]
  },
  {
   "cell_type": "code",
   "execution_count": 16,
   "metadata": {},
   "outputs": [
    {
     "name": "stdout",
     "output_type": "stream",
     "text": [
      "30\n",
      "5\n",
      "70\n",
      "4.285714285714286\n",
      "5\n"
     ]
    }
   ],
   "source": [
    "class Calsi:\n",
    "    def add(a,b):\n",
    "        return a+b\n",
    "    def sub(a,b):\n",
    "        return a-b\n",
    "    def div(a,b):\n",
    "        return a/b\n",
    "    def mul(a,b):\n",
    "        return a*b\n",
    "    def mod(a,b):\n",
    "        return a%b\n",
    "cal=Calsi\n",
    "print(cal.add(10,20))\n",
    "print(cal.sub(15,10))\n",
    "print(cal.mul(7,10))\n",
    "print(cal.div(30,7))\n",
    "print(cal.mod(25,10))"
   ]
  },
  {
   "cell_type": "code",
   "execution_count": 17,
   "metadata": {},
   "outputs": [
    {
     "ename": "TypeError",
     "evalue": "add() takes 2 positional arguments but 3 were given",
     "output_type": "error",
     "traceback": [
      "\u001b[1;31m---------------------------------------------------------------------------\u001b[0m",
      "\u001b[1;31mTypeError\u001b[0m                                 Traceback (most recent call last)",
      "\u001b[1;32m<ipython-input-17-629056e80f3b>\u001b[0m in \u001b[0;36m<module>\u001b[1;34m\u001b[0m\n\u001b[0;32m     11\u001b[0m         \u001b[1;32mreturn\u001b[0m \u001b[0ma\u001b[0m\u001b[1;33m%\u001b[0m\u001b[0mb\u001b[0m\u001b[1;33m\u001b[0m\u001b[1;33m\u001b[0m\u001b[0m\n\u001b[0;32m     12\u001b[0m \u001b[0mcal\u001b[0m\u001b[1;33m=\u001b[0m\u001b[0mCalsi\u001b[0m\u001b[1;33m(\u001b[0m\u001b[1;33m)\u001b[0m\u001b[1;33m\u001b[0m\u001b[1;33m\u001b[0m\u001b[0m\n\u001b[1;32m---> 13\u001b[1;33m \u001b[0mprint\u001b[0m\u001b[1;33m(\u001b[0m\u001b[0mcal\u001b[0m\u001b[1;33m.\u001b[0m\u001b[0madd\u001b[0m\u001b[1;33m(\u001b[0m\u001b[1;36m10\u001b[0m\u001b[1;33m,\u001b[0m\u001b[1;36m20\u001b[0m\u001b[1;33m)\u001b[0m\u001b[1;33m)\u001b[0m\u001b[1;33m\u001b[0m\u001b[1;33m\u001b[0m\u001b[0m\n\u001b[0m\u001b[0;32m     14\u001b[0m \u001b[0mprint\u001b[0m\u001b[1;33m(\u001b[0m\u001b[0mcal\u001b[0m\u001b[1;33m.\u001b[0m\u001b[0msub\u001b[0m\u001b[1;33m(\u001b[0m\u001b[1;36m15\u001b[0m\u001b[1;33m,\u001b[0m\u001b[1;36m10\u001b[0m\u001b[1;33m)\u001b[0m\u001b[1;33m)\u001b[0m\u001b[1;33m\u001b[0m\u001b[1;33m\u001b[0m\u001b[0m\n\u001b[0;32m     15\u001b[0m \u001b[0mprint\u001b[0m\u001b[1;33m(\u001b[0m\u001b[0mcal\u001b[0m\u001b[1;33m.\u001b[0m\u001b[0mmul\u001b[0m\u001b[1;33m(\u001b[0m\u001b[1;36m7\u001b[0m\u001b[1;33m,\u001b[0m\u001b[1;36m10\u001b[0m\u001b[1;33m)\u001b[0m\u001b[1;33m)\u001b[0m\u001b[1;33m\u001b[0m\u001b[1;33m\u001b[0m\u001b[0m\n",
      "\u001b[1;31mTypeError\u001b[0m: add() takes 2 positional arguments but 3 were given"
     ]
    }
   ],
   "source": [
    "class Calsi:\n",
    "    def add(a,b):\n",
    "        return a+b\n",
    "    def sub(a,b):\n",
    "        return a-b\n",
    "    def div(a,b):\n",
    "        return a/b\n",
    "    def mul(a,b):\n",
    "        return a*b\n",
    "    def mod(a,b):\n",
    "        return a%b\n",
    "cal=Calsi()\n",
    "print(cal.add(10,20))\n",
    "print(cal.sub(15,10))\n",
    "print(cal.mul(7,10))\n",
    "print(cal.div(30,7))\n",
    "print(cal.mod(25,10))"
   ]
  },
  {
   "cell_type": "code",
   "execution_count": 19,
   "metadata": {},
   "outputs": [
    {
     "ename": "TypeError",
     "evalue": "unsupported operand type(s) for +: 'Calsi' and 'int'",
     "output_type": "error",
     "traceback": [
      "\u001b[1;31m---------------------------------------------------------------------------\u001b[0m",
      "\u001b[1;31mTypeError\u001b[0m                                 Traceback (most recent call last)",
      "\u001b[1;32m<ipython-input-19-ccb0d9ad2d5b>\u001b[0m in \u001b[0;36m<module>\u001b[1;34m\u001b[0m\n\u001b[0;32m     11\u001b[0m         \u001b[1;32mreturn\u001b[0m \u001b[0ma\u001b[0m\u001b[1;33m%\u001b[0m\u001b[0mb\u001b[0m\u001b[1;33m\u001b[0m\u001b[1;33m\u001b[0m\u001b[0m\n\u001b[0;32m     12\u001b[0m \u001b[0mcal\u001b[0m\u001b[1;33m=\u001b[0m\u001b[0mCalsi\u001b[0m\u001b[1;33m(\u001b[0m\u001b[1;33m)\u001b[0m\u001b[1;33m\u001b[0m\u001b[1;33m\u001b[0m\u001b[0m\n\u001b[1;32m---> 13\u001b[1;33m \u001b[0mprint\u001b[0m\u001b[1;33m(\u001b[0m\u001b[0mcal\u001b[0m\u001b[1;33m.\u001b[0m\u001b[0madd\u001b[0m\u001b[1;33m(\u001b[0m\u001b[1;36m10\u001b[0m\u001b[1;33m)\u001b[0m\u001b[1;33m)\u001b[0m\u001b[1;33m\u001b[0m\u001b[1;33m\u001b[0m\u001b[0m\n\u001b[0m\u001b[0;32m     14\u001b[0m \u001b[0mprint\u001b[0m\u001b[1;33m(\u001b[0m\u001b[0mcal\u001b[0m\u001b[1;33m.\u001b[0m\u001b[0msub\u001b[0m\u001b[1;33m(\u001b[0m\u001b[1;36m15\u001b[0m\u001b[1;33m)\u001b[0m\u001b[1;33m)\u001b[0m\u001b[1;33m\u001b[0m\u001b[1;33m\u001b[0m\u001b[0m\n\u001b[0;32m     15\u001b[0m \u001b[0mprint\u001b[0m\u001b[1;33m(\u001b[0m\u001b[0mcal\u001b[0m\u001b[1;33m.\u001b[0m\u001b[0mmul\u001b[0m\u001b[1;33m(\u001b[0m\u001b[1;36m7\u001b[0m\u001b[1;33m)\u001b[0m\u001b[1;33m)\u001b[0m\u001b[1;33m\u001b[0m\u001b[1;33m\u001b[0m\u001b[0m\n",
      "\u001b[1;32m<ipython-input-19-ccb0d9ad2d5b>\u001b[0m in \u001b[0;36madd\u001b[1;34m(a, b)\u001b[0m\n\u001b[0;32m      1\u001b[0m \u001b[1;32mclass\u001b[0m \u001b[0mCalsi\u001b[0m\u001b[1;33m:\u001b[0m\u001b[1;33m\u001b[0m\u001b[1;33m\u001b[0m\u001b[0m\n\u001b[0;32m      2\u001b[0m     \u001b[1;32mdef\u001b[0m \u001b[0madd\u001b[0m\u001b[1;33m(\u001b[0m\u001b[0ma\u001b[0m\u001b[1;33m,\u001b[0m\u001b[0mb\u001b[0m\u001b[1;33m)\u001b[0m\u001b[1;33m:\u001b[0m\u001b[1;33m\u001b[0m\u001b[1;33m\u001b[0m\u001b[0m\n\u001b[1;32m----> 3\u001b[1;33m         \u001b[1;32mreturn\u001b[0m \u001b[0ma\u001b[0m\u001b[1;33m+\u001b[0m\u001b[0mb\u001b[0m\u001b[1;33m\u001b[0m\u001b[1;33m\u001b[0m\u001b[0m\n\u001b[0m\u001b[0;32m      4\u001b[0m     \u001b[1;32mdef\u001b[0m \u001b[0msub\u001b[0m\u001b[1;33m(\u001b[0m\u001b[0ma\u001b[0m\u001b[1;33m,\u001b[0m\u001b[0mb\u001b[0m\u001b[1;33m)\u001b[0m\u001b[1;33m:\u001b[0m\u001b[1;33m\u001b[0m\u001b[1;33m\u001b[0m\u001b[0m\n\u001b[0;32m      5\u001b[0m         \u001b[1;32mreturn\u001b[0m \u001b[0ma\u001b[0m\u001b[1;33m-\u001b[0m\u001b[0mb\u001b[0m\u001b[1;33m\u001b[0m\u001b[1;33m\u001b[0m\u001b[0m\n",
      "\u001b[1;31mTypeError\u001b[0m: unsupported operand type(s) for +: 'Calsi' and 'int'"
     ]
    }
   ],
   "source": [
    "class Calsi:   \n",
    "    def add(a,b):\n",
    "        return a+b\n",
    "    def sub(a,b):\n",
    "        return a-b\n",
    "    def div(a,b):\n",
    "        return a/b\n",
    "    def mul(a,b):\n",
    "        return a*b\n",
    "    def mod(a,b):\n",
    "        return a%b\n",
    "cal=Calsi()\n",
    "print(cal.add(10))\n",
    "print(cal.sub(15))\n",
    "print(cal.mul(7))\n",
    "print(cal.div(30))\n",
    "print(cal.mod(25))"
   ]
  },
  {
   "cell_type": "code",
   "execution_count": 20,
   "metadata": {},
   "outputs": [
    {
     "ename": "TypeError",
     "evalue": "config() missing 1 required positional argument: 'self'",
     "output_type": "error",
     "traceback": [
      "\u001b[1;31m---------------------------------------------------------------------------\u001b[0m",
      "\u001b[1;31mTypeError\u001b[0m                                 Traceback (most recent call last)",
      "\u001b[1;32m<ipython-input-20-29ccaf94c5e9>\u001b[0m in \u001b[0;36m<module>\u001b[1;34m\u001b[0m\n\u001b[0;32m      3\u001b[0m         \u001b[0mprint\u001b[0m\u001b[1;33m(\u001b[0m\u001b[1;34m\"i5\"\u001b[0m\u001b[1;33m,\u001b[0m\u001b[1;34m\"16gb\"\u001b[0m\u001b[1;33m,\u001b[0m\u001b[1;34m\"1tb\"\u001b[0m\u001b[1;33m)\u001b[0m\u001b[1;33m\u001b[0m\u001b[1;33m\u001b[0m\u001b[0m\n\u001b[0;32m      4\u001b[0m \u001b[0mcom1\u001b[0m\u001b[1;33m=\u001b[0m\u001b[0mcomputer\u001b[0m\u001b[1;33m\u001b[0m\u001b[1;33m\u001b[0m\u001b[0m\n\u001b[1;32m----> 5\u001b[1;33m \u001b[0mcom1\u001b[0m\u001b[1;33m.\u001b[0m\u001b[0mconfig\u001b[0m\u001b[1;33m(\u001b[0m\u001b[1;33m)\u001b[0m\u001b[1;33m\u001b[0m\u001b[1;33m\u001b[0m\u001b[0m\n\u001b[0m",
      "\u001b[1;31mTypeError\u001b[0m: config() missing 1 required positional argument: 'self'"
     ]
    }
   ],
   "source": [
    "class computer:\n",
    "    def config(self):\n",
    "        print(\"i5\",\"16gb\",\"1tb\")\n",
    "com1=computer\n",
    "com1.config()"
   ]
  },
  {
   "cell_type": "code",
   "execution_count": 24,
   "metadata": {},
   "outputs": [
    {
     "name": "stdout",
     "output_type": "stream",
     "text": [
      "i5 16gb 1tb\n"
     ]
    }
   ],
   "source": [
    "class computer:\n",
    "    def config(self):\n",
    "        print(\"i5\",\"16gb\",\"1tb\")\n",
    "com1=computer\n",
    "com1.config(6)"
   ]
  },
  {
   "cell_type": "code",
   "execution_count": 25,
   "metadata": {},
   "outputs": [
    {
     "name": "stdout",
     "output_type": "stream",
     "text": [
      "i5 16gb 1tb\n"
     ]
    }
   ],
   "source": [
    "class computer:\n",
    "    def config(self):\n",
    "        print(\"i5\",\"16gb\",\"1tb\")\n",
    "com1=computer()\n",
    "com1.config()"
   ]
  },
  {
   "cell_type": "code",
   "execution_count": null,
   "metadata": {},
   "outputs": [],
   "source": [
    "#constructors:\n",
    "- constructor is a special type of method(function inside a class)\n",
    "- which is used to intialize the instance members of a class\n",
    "- in python for creating constructor we will use __init__(self)\n",
    "- self parameter used find the current reference object\n",
    "#syn:\n",
    "class class_name:\n",
    "    def __init__(self):  #self is a default parameter\n",
    "    def __init__(self,a,b): #first variables acts as a default parameter #self\n",
    "    def __init__(a,b,self): #a is default parameter"
   ]
  },
  {
   "cell_type": "code",
   "execution_count": 26,
   "metadata": {},
   "outputs": [
    {
     "name": "stdout",
     "output_type": "stream",
     "text": [
      "iam from constructor\n",
      "i5 16gb 1tb\n"
     ]
    }
   ],
   "source": [
    "class Com:\n",
    "    def __init__(self):\n",
    "        print(\"iam from constructor\")\n",
    "    def config(self):\n",
    "        print(\"i5\",\"16gb\",\"1tb\")\n",
    "c1=Com()\n",
    "c1.config()"
   ]
  },
  {
   "cell_type": "code",
   "execution_count": null,
   "metadata": {},
   "outputs": [],
   "source": [
    "if u call the class then it automatically calls constructor"
   ]
  },
  {
   "cell_type": "code",
   "execution_count": 28,
   "metadata": {},
   "outputs": [
    {
     "name": "stdout",
     "output_type": "stream",
     "text": [
      "i5 16gb 1tb\n"
     ]
    }
   ],
   "source": [
    "class Com:\n",
    "    def __init__(self):\n",
    "        print(\"iam from constructor\")\n",
    "    def config(self):\n",
    "        print(\"i5\",\"16gb\",\"1tb\")\n",
    "c1=Com\n",
    "c1.config(56)"
   ]
  },
  {
   "cell_type": "code",
   "execution_count": 30,
   "metadata": {},
   "outputs": [
    {
     "name": "stdout",
     "output_type": "stream",
     "text": [
      "iam from constructor\n"
     ]
    }
   ],
   "source": [
    "c1.__init__(46)"
   ]
  },
  {
   "cell_type": "code",
   "execution_count": 32,
   "metadata": {},
   "outputs": [
    {
     "name": "stdout",
     "output_type": "stream",
     "text": [
      "iam from constructor\n",
      "i5 16gb 1tb\n"
     ]
    }
   ],
   "source": [
    "class Com:\n",
    "    def __init__(self):\n",
    "        print(\"iam from constructor\")\n",
    "    def config(self):\n",
    "        print(\"i5\",\"16gb\",\"1tb\")\n",
    "c1=Com()\n",
    "c1.config()"
   ]
  },
  {
   "cell_type": "code",
   "execution_count": 33,
   "metadata": {},
   "outputs": [
    {
     "name": "stdout",
     "output_type": "stream",
     "text": [
      "iam from constructor\n"
     ]
    }
   ],
   "source": [
    "c1.__init__()"
   ]
  },
  {
   "cell_type": "code",
   "execution_count": null,
   "metadata": {},
   "outputs": [],
   "source": [
    "if u use constructor it is mandtory to use () in class"
   ]
  },
  {
   "cell_type": "code",
   "execution_count": 35,
   "metadata": {},
   "outputs": [
    {
     "name": "stdout",
     "output_type": "stream",
     "text": [
      "iam from constructor\n",
      "i5 16gb 1tb\n"
     ]
    }
   ],
   "source": [
    "class Com:\n",
    "    def __init__(self,cpu,ram):\n",
    "        print(\"iam from constructor\")\n",
    "    def config(self):\n",
    "        print(\"i5\",\"16gb\",\"1tb\")\n",
    "c1=Com(\"i5\",16)\n",
    "c1.config()"
   ]
  },
  {
   "cell_type": "code",
   "execution_count": 36,
   "metadata": {},
   "outputs": [
    {
     "name": "stdout",
     "output_type": "stream",
     "text": [
      "iam from constructor\n",
      "i5 16gb 1tb\n"
     ]
    }
   ],
   "source": [
    "c2=Com(\"ryzan3\",8)\n",
    "c2.config()"
   ]
  },
  {
   "cell_type": "code",
   "execution_count": 37,
   "metadata": {},
   "outputs": [
    {
     "name": "stdout",
     "output_type": "stream",
     "text": [
      "i5\n",
      "16\n",
      "i5 16gb 1tb\n"
     ]
    }
   ],
   "source": [
    "class Com:\n",
    "    def __init__(self,cpu,ram): #default parameter # c1-current reference object\n",
    "        self.cpu=cpu\n",
    "        self.ram=ram\n",
    "        print(self.cpu)\n",
    "        print(self.ram)\n",
    "    def config(self):\n",
    "        print(\"i5\",\"16gb\",\"1tb\")\n",
    "c1=Com(\"i5\",16)\n",
    "c1.config()"
   ]
  },
  {
   "cell_type": "code",
   "execution_count": 38,
   "metadata": {},
   "outputs": [
    {
     "name": "stdout",
     "output_type": "stream",
     "text": [
      "ryzan3\n",
      "8\n",
      "i5 16gb 1tb\n"
     ]
    }
   ],
   "source": [
    "class Com:\n",
    "    def __init__(self,cpu,ram): #default parameter #c2-current reference object\n",
    "        self.cpu=cpu\n",
    "        self.ram=ram\n",
    "        print(self.cpu)\n",
    "        print(self.ram)\n",
    "    def config(self):\n",
    "        print(\"i5\",\"16gb\",\"1tb\")\n",
    "c2=Com(\"ryzan3\",8)\n",
    "c2.config()"
   ]
  },
  {
   "cell_type": "code",
   "execution_count": 39,
   "metadata": {},
   "outputs": [
    {
     "name": "stdout",
     "output_type": "stream",
     "text": [
      "ryzan3\n",
      "8\n",
      "i5 16gb 1tb\n"
     ]
    }
   ],
   "source": [
    "class Com:\n",
    "    def __init__(cpu,ram,self): #default parameter #c2-current reference object\n",
    "        cpu.ram=ram\n",
    "        cpu.self=self\n",
    "        print(cpu.ram)\n",
    "        print(cpu.self)\n",
    "    def config(cpu):\n",
    "        print(\"i5\",\"16gb\",\"1tb\")\n",
    "c2=Com(\"ryzan3\",8)\n",
    "c2.config()"
   ]
  },
  {
   "cell_type": "code",
   "execution_count": 43,
   "metadata": {},
   "outputs": [
    {
     "name": "stdout",
     "output_type": "stream",
     "text": [
      "5\n",
      "6\n",
      "15\n"
     ]
    }
   ],
   "source": [
    "class Math:\n",
    "    def __init__(abc,v1,v2): #abc deafult parameter\n",
    "        abc.v1=v1\n",
    "        abc.v2=v2\n",
    "    def show(abc):\n",
    "        print(abc.v1)\n",
    "        print(abc.v2)\n",
    "    def add(abc,v3):\n",
    "        print(abc.v1+abc.v2+v3)\n",
    "m=Math(5,6)\n",
    "m.show()\n",
    "m.add(4)"
   ]
  },
  {
   "cell_type": "code",
   "execution_count": null,
   "metadata": {},
   "outputs": [],
   "source": [
    "#inheritance:\n",
    "- we can creat a class which uses all the properties and behaviour of another class.\n",
    "- new class is called as child,derived class,sub class\n",
    "- and existing class is called as parent,base class,super class\n",
    "- reusability\n",
    "\n",
    "father--->parent class\n",
    "son----->child class\n",
    "#syn:\n",
    "#parent class:\n",
    "class Parent_class():\n",
    "#child class:\n",
    "class Child_class(Parent_class):\n",
    "    \n",
    "#types of inheritance:\n",
    "1)single inheritance\n",
    "2)multiple\n",
    "3)multilevel\n",
    "4)heirarchical\n",
    "5)hybrid"
   ]
  },
  {
   "cell_type": "code",
   "execution_count": 48,
   "metadata": {},
   "outputs": [
    {
     "name": "stdout",
     "output_type": "stream",
     "text": [
      "iam a parent\n",
      "iam a child\n"
     ]
    }
   ],
   "source": [
    "#single inheritance(one parent,one child)\n",
    "class Parent():\n",
    "    def A():\n",
    "        print(\"iam a parent\")\n",
    "class Child(Parent):\n",
    "    def B():\n",
    "        print(\"iam a child\")\n",
    "\n",
    "obj=Child\n",
    "obj.A()\n",
    "obj.B()"
   ]
  },
  {
   "cell_type": "code",
   "execution_count": 55,
   "metadata": {},
   "outputs": [
    {
     "name": "stdout",
     "output_type": "stream",
     "text": [
      "iam a parent2\n",
      "iam a parent1\n",
      "iam a child\n"
     ]
    }
   ],
   "source": [
    "#multiple inheritance (2 parents,one child)\n",
    "class mother():\n",
    "    def A():\n",
    "        print(\"iam a parent1\")\n",
    "class father():\n",
    "    def B():\n",
    "        print(\"iam a parent2\")\n",
    "class Child(mother,father):\n",
    "    def C():\n",
    "        print(\"iam a child\")    \n",
    "\n",
    "obj=Child\n",
    "obj.B()\n",
    "obj.A()\n",
    "obj.C()"
   ]
  },
  {
   "cell_type": "code",
   "execution_count": 56,
   "metadata": {},
   "outputs": [
    {
     "name": "stdout",
     "output_type": "stream",
     "text": [
      "iam a grandfather\n",
      "iam a father\n",
      "iam a son\n"
     ]
    }
   ],
   "source": [
    "#multilevel(grandfather----->father---->son)\n",
    "class grandfather():\n",
    "    def A():\n",
    "        print(\"iam a grandfather\")\n",
    "class father(grandfather):\n",
    "    def B():\n",
    "        print(\"iam a father\")\n",
    "class son(father):\n",
    "    def C():\n",
    "        print(\"iam a son\")\n",
    "        \n",
    "obj=son\n",
    "obj.A()\n",
    "obj.B()\n",
    "obj.C()"
   ]
  },
  {
   "cell_type": "code",
   "execution_count": 59,
   "metadata": {},
   "outputs": [
    {
     "name": "stdout",
     "output_type": "stream",
     "text": [
      "iam a parent\n",
      "iam a child1\n",
      "iam a child2\n",
      "iam a parent\n"
     ]
    }
   ],
   "source": [
    "#hierarchical(1 parent,2 childs)\n",
    "class parent():\n",
    "    def A():\n",
    "        print(\"iam a parent\")\n",
    "class child1(parent):\n",
    "    def B():\n",
    "        print(\"iam a child1\")\n",
    "class child2(parent):\n",
    "    def C():\n",
    "        print(\"iam a child2\")\n",
    "obj=child1\n",
    "obj.A()\n",
    "obj.B()\n",
    "obj1=child2\n",
    "obj1.C()\n",
    "obj1.A()"
   ]
  },
  {
   "cell_type": "code",
   "execution_count": 60,
   "metadata": {},
   "outputs": [
    {
     "name": "stdout",
     "output_type": "stream",
     "text": [
      "iam a parent1\n",
      "iam a parent2\n",
      "iam a child\n",
      "iam a father\n",
      "iam a son\n"
     ]
    }
   ],
   "source": [
    "#hybrid inheritance(all combinatin)(multiple+multilevel)\n",
    "#multiple----> 2 parents,1 child\n",
    "#multilevel---->grandfather--->father--->child\n",
    "class parent1():\n",
    "    def A():\n",
    "        print(\"iam a parent1\")\n",
    "class parent2():\n",
    "    def B():\n",
    "        print(\"iam a parent2\")\n",
    "class grandfather_Child(parent1,parent2):\n",
    "    def C():\n",
    "        print(\"iam a child\")\n",
    "\n",
    "class father(grandfather_Child):\n",
    "    def D():\n",
    "        print(\"iam a father\")\n",
    "class son(father):\n",
    "    def E():\n",
    "        print(\"iam a son\")\n",
    "        \n",
    "obj=son\n",
    "obj.A()\n",
    "obj.B()\n",
    "obj.C()\n",
    "obj.D()\n",
    "obj.E()"
   ]
  },
  {
   "cell_type": "code",
   "execution_count": null,
   "metadata": {},
   "outputs": [],
   "source": []
  }
 ],
 "metadata": {
  "kernelspec": {
   "display_name": "Python 3",
   "language": "python",
   "name": "python3"
  },
  "language_info": {
   "codemirror_mode": {
    "name": "ipython",
    "version": 3
   },
   "file_extension": ".py",
   "mimetype": "text/x-python",
   "name": "python",
   "nbconvert_exporter": "python",
   "pygments_lexer": "ipython3",
   "version": "3.7.3"
  }
 },
 "nbformat": 4,
 "nbformat_minor": 2
}
