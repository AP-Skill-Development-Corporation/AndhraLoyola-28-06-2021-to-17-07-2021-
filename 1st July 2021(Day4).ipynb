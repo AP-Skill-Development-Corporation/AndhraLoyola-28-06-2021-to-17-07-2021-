{
 "cells": [
  {
   "cell_type": "markdown",
   "metadata": {},
   "source": [
    "### Today Topics\n",
    "- operators\n",
    "    - assignment operators\n",
    "        - =,!=,+=,-=,*=,/=\n",
    "            - num=5\n",
    "    - comparision operators\n",
    "        - <,<=,>,>=,==\n",
    "    - bitwise operators\n",
    "        - &(and),|(or),^(**),<<,>>\n",
    "- conditionals\n",
    "- Iterating statements\n",
    "    - iteration/repeatition of statements\n"
   ]
  },
  {
   "cell_type": "markdown",
   "metadata": {},
   "source": [
    "####  Assignment operators\n"
   ]
  },
  {
   "cell_type": "code",
   "execution_count": 5,
   "metadata": {},
   "outputs": [
    {
     "name": "stdout",
     "output_type": "stream",
     "text": [
      "15\n",
      "x= 15\n",
      "value of x: 25\n"
     ]
    }
   ],
   "source": [
    "x=int(input()) # 15\n",
    "print(\"x=\",x) #\n",
    "x+=10 #x=x+10\n",
    "print('value of x:',x) # 25"
   ]
  },
  {
   "cell_type": "code",
   "execution_count": 6,
   "metadata": {
    "collapsed": true
   },
   "outputs": [
    {
     "name": "stdout",
     "output_type": "stream",
     "text": [
      "x is 20\n"
     ]
    }
   ],
   "source": [
    "x-=5 # x=x-10\n",
    "print(\"x is\",x)"
   ]
  },
  {
   "cell_type": "code",
   "execution_count": 7,
   "metadata": {
    "collapsed": true
   },
   "outputs": [
    {
     "name": "stdout",
     "output_type": "stream",
     "text": [
      "value of x after multiplying 200\n",
      "x is 50.0\n"
     ]
    }
   ],
   "source": [
    "x*=10 # x*10\n",
    "print(\"value of x after multiplying\",x)\n",
    "x=x/4\n",
    "print(\"x is\",x)"
   ]
  },
  {
   "cell_type": "markdown",
   "metadata": {},
   "source": [
    "#### Comparisional/Relational operators"
   ]
  },
  {
   "cell_type": "code",
   "execution_count": 8,
   "metadata": {},
   "outputs": [
    {
     "data": {
      "text/plain": [
       "True"
      ]
     },
     "execution_count": 8,
     "metadata": {},
     "output_type": "execute_result"
    }
   ],
   "source": [
    "x,y=43,98 # x=43,y=98\n",
    "x<y # "
   ]
  },
  {
   "cell_type": "code",
   "execution_count": 9,
   "metadata": {},
   "outputs": [
    {
     "data": {
      "text/plain": [
       "True"
      ]
     },
     "execution_count": 9,
     "metadata": {},
     "output_type": "execute_result"
    }
   ],
   "source": [
    "x!=y"
   ]
  },
  {
   "cell_type": "code",
   "execution_count": 10,
   "metadata": {},
   "outputs": [
    {
     "data": {
      "text/plain": [
       "True"
      ]
     },
     "execution_count": 10,
     "metadata": {},
     "output_type": "execute_result"
    }
   ],
   "source": [
    "y>x"
   ]
  },
  {
   "cell_type": "code",
   "execution_count": 11,
   "metadata": {},
   "outputs": [
    {
     "data": {
      "text/plain": [
       "False"
      ]
     },
     "execution_count": 11,
     "metadata": {},
     "output_type": "execute_result"
    }
   ],
   "source": [
    "y<=x # false"
   ]
  },
  {
   "cell_type": "code",
   "execution_count": 12,
   "metadata": {},
   "outputs": [
    {
     "data": {
      "text/plain": [
       "False"
      ]
     },
     "execution_count": 12,
     "metadata": {},
     "output_type": "execute_result"
    }
   ],
   "source": [
    "x==y #checking the equality of both variables"
   ]
  },
  {
   "cell_type": "code",
   "execution_count": 15,
   "metadata": {
    "collapsed": true
   },
   "outputs": [
    {
     "name": "stdout",
     "output_type": "stream",
     "text": [
      "x is 98\n",
      "y is 98\n"
     ]
    }
   ],
   "source": [
    "x=y # assigning value of y to x\n",
    "print(\"x is\",x)\n",
    "print(\"y is\",y)"
   ]
  },
  {
   "cell_type": "code",
   "execution_count": 18,
   "metadata": {
    "collapsed": true
   },
   "outputs": [
    {
     "name": "stdout",
     "output_type": "stream",
     "text": [
      "Enter x value:10\n",
      "binary form of input number: 0b1010\n"
     ]
    }
   ],
   "source": [
    "x=int(input(\"Enter x value:\"))\n",
    "print(\"binary form of input number:\",bin(x))"
   ]
  },
  {
   "cell_type": "code",
   "execution_count": 20,
   "metadata": {},
   "outputs": [
    {
     "data": {
      "text/plain": [
       "2048"
      ]
     },
     "execution_count": 20,
     "metadata": {},
     "output_type": "execute_result"
    }
   ],
   "source": [
    "#x=10\n",
    "print(\"left shift operator\",2<<x) # "
   ]
  },
  {
   "cell_type": "code",
   "execution_count": 21,
   "metadata": {},
   "outputs": [
    {
     "data": {
      "text/plain": [
       "2"
      ]
     },
     "execution_count": 21,
     "metadata": {},
     "output_type": "execute_result"
    }
   ],
   "source": [
    "x>>2 # right shift operator"
   ]
  },
  {
   "cell_type": "markdown",
   "metadata": {},
   "source": [
    "### Conditionals\n",
    "- the statement in a program with some conditions\n",
    "- if,else and elif\n",
    "- **syntax**\n",
    "    - if condition:\n",
    "        - statements goes here\n",
    "        "
   ]
  },
  {
   "cell_type": "code",
   "execution_count": 24,
   "metadata": {},
   "outputs": [
    {
     "name": "stdout",
     "output_type": "stream",
     "text": [
      "Enter the number:9\n",
      "9\n"
     ]
    }
   ],
   "source": [
    "# read a value from user and print if it is positive value\n",
    "val=int(input(\"Enter the number:\"))\n",
    "if val>0:\n",
    "    print(val)"
   ]
  },
  {
   "cell_type": "code",
   "execution_count": 2,
   "metadata": {},
   "outputs": [
    {
     "name": "stdout",
     "output_type": "stream",
     "text": [
      "Enter the value:-4567890\n",
      "Negative integer\n"
     ]
    }
   ],
   "source": [
    "# Read a value from user and print positive integer if it is greater than 0,\n",
    "#print neutal if it is 0 and print negative integer if it is less than 0\n",
    "n=int(input(\"Enter the value:\"))\n",
    "if n>0:\n",
    "    print(\"Positive integer\")\n",
    "elif n==0:\n",
    "    print(\"Zero\")\n",
    "else:\n",
    "    print(\"Negative integer\")"
   ]
  },
  {
   "cell_type": "code",
   "execution_count": null,
   "metadata": {},
   "outputs": [],
   "source": [
    "# read a number from user and check whether it is even or odd\n",
    "num=int(input())\n",
    "if num%2 is 0:\n",
    "    print(\"even\")\n",
    "else:print(\"odd\")"
   ]
  },
  {
   "cell_type": "code",
   "execution_count": 12,
   "metadata": {
    "collapsed": true
   },
   "outputs": [
    {
     "name": "stdout",
     "output_type": "stream",
     "text": [
      "enter the alphabet:k\n",
      "consonant\n",
      "<class 'str'>\n"
     ]
    }
   ],
   "source": [
    "# read a character from user and print whether it is vowel or consonant\n",
    "sm=input(\"enter the alphabet:\")\n",
    "if sm==\"a\"or sm==\"e\" or sm=='i' or sm=='o' or sm=='u':\n",
    "    print(\"vowel\")\n",
    "else:print(\"consonant\")\n",
    "print(type(sm))\n"
   ]
  },
  {
   "cell_type": "code",
   "execution_count": 6,
   "metadata": {},
   "outputs": [
    {
     "name": "stdout",
     "output_type": "stream",
     "text": [
      "9\n"
     ]
    }
   ],
   "source": [
    "print(9)"
   ]
  },
  {
   "cell_type": "code",
   "execution_count": 8,
   "metadata": {},
   "outputs": [
    {
     "name": "stdout",
     "output_type": "stream",
     "text": [
      "ruthu\n"
     ]
    }
   ],
   "source": [
    "print(\"ruthu\")"
   ]
  },
  {
   "cell_type": "code",
   "execution_count": 9,
   "metadata": {},
   "outputs": [
    {
     "name": "stdout",
     "output_type": "stream",
     "text": [
      "ruthu\n"
     ]
    }
   ],
   "source": [
    "name=\"ruthu\" # data/val\n",
    "print(name) # name is the variable,ruthu is the string/word"
   ]
  },
  {
   "cell_type": "code",
   "execution_count": 13,
   "metadata": {},
   "outputs": [],
   "source": [
    "x=10"
   ]
  },
  {
   "cell_type": "code",
   "execution_count": 14,
   "metadata": {},
   "outputs": [
    {
     "name": "stdout",
     "output_type": "stream",
     "text": [
      "Enter a character: i\n",
      "Vowel\n"
     ]
    }
   ],
   "source": [
    "ch = input(\"Enter a character: \")\n",
    "#  lower case and upper case vowels\n",
    "if(ch=='A' or ch=='a' or ch=='E' or ch =='e' or ch=='I'\n",
    " or ch=='i' or ch=='O' or ch=='o' or ch=='U' or ch=='u'):\n",
    "    print(\"Vowel\")\n",
    "else:\n",
    "    print( \"Consonant\")\n"
   ]
  },
  {
   "cell_type": "code",
   "execution_count": 18,
   "metadata": {
    "collapsed": true
   },
   "outputs": [
    {
     "name": "stdout",
     "output_type": "stream",
     "text": [
      "Enter a character: p\n",
      "Consonant\n"
     ]
    }
   ],
   "source": [
    "ch = input(\"Enter a character: \")\n",
    "#  lower case and upper case vowels\n",
    "if ch=='A' or ch=='E' or ch=='I' or ch =='O' or ch=='U':\n",
    "    print(\"Upper case vowel\")\n",
    "elif ch=='i' or ch=='o' or ch=='u' or ch=='e' or ch=='a':\n",
    "    print(\"Lower case vowel\")\n",
    "else:\n",
    "    print( \"Consonant\")\n"
   ]
  },
  {
   "cell_type": "code",
   "execution_count": 19,
   "metadata": {
    "collapsed": true
   },
   "outputs": [
    {
     "name": "stdout",
     "output_type": "stream",
     "text": [
      "consonant\n"
     ]
    }
   ],
   "source": [
    "vowels=\"aeiouAEIOU\"\n",
    "if ch in vowels:\n",
    "    print(\"vowel\")\n",
    "else:\n",
    "    print(\"consonant\")"
   ]
  },
  {
   "cell_type": "code",
   "execution_count": 20,
   "metadata": {},
   "outputs": [],
   "source": [
    "# read 3 integers from user and print whichone is bigger"
   ]
  },
  {
   "cell_type": "code",
   "execution_count": 23,
   "metadata": {
    "collapsed": true
   },
   "outputs": [
    {
     "name": "stdout",
     "output_type": "stream",
     "text": [
      "enter a value:10\n",
      "enter b value:90\n",
      "enter c value:50\n",
      "b is big\n"
     ]
    }
   ],
   "source": [
    "a=int(input(\"enter a value:\"))\n",
    "b=int(input(\"enter b value:\"))\n",
    "c=int(input(\"enter c value:\"))\n",
    "if a>b and a>c: # a> b&c\n",
    "    print(\"a is big\")\n",
    "elif b>a and b>c: #b:a&c\n",
    "    print(\"b is big\")\n",
    "else:print(\"c is big\") #c>a&b\n"
   ]
  },
  {
   "cell_type": "code",
   "execution_count": 30,
   "metadata": {
    "collapsed": true
   },
   "outputs": [
    {
     "name": "stdout",
     "output_type": "stream",
     "text": [
      "Enter year:1970\n",
      "Non leap year\n"
     ]
    }
   ],
   "source": [
    "# read a year value from user and print whether it is leap or not\n",
    "# year==4,400 but not with 100\n",
    "# all centuries are not leap years.\n",
    "year=int(input(\"Enter year:\"))\n",
    "if (year%4==0) or (year%400==0 and year%100!=0): # a or b(2 conditions)\n",
    "    print(\"Leap year\")\n",
    "else:\n",
    "    print(\"Non leap year\")"
   ]
  },
  {
   "cell_type": "code",
   "execution_count": 31,
   "metadata": {},
   "outputs": [
    {
     "name": "stdout",
     "output_type": "stream",
     "text": [
      "ruthu\n"
     ]
    }
   ],
   "source": [
    "# python program to print your name\n",
    "print(\"ruthu\")"
   ]
  },
  {
   "cell_type": "code",
   "execution_count": 32,
   "metadata": {},
   "outputs": [
    {
     "name": "stdout",
     "output_type": "stream",
     "text": [
      "Andhra Layola\n"
     ]
    }
   ],
   "source": [
    "print(\"Andhra Layola\")"
   ]
  },
  {
   "cell_type": "code",
   "execution_count": 33,
   "metadata": {},
   "outputs": [
    {
     "name": "stdout",
     "output_type": "stream",
     "text": [
      "yu9098767890\n"
     ]
    }
   ],
   "source": [
    "print(\"yu9098767890\")"
   ]
  },
  {
   "cell_type": "markdown",
   "metadata": {},
   "source": [
    "#### Iterating statements\n",
    "- for repeatation of a statement or group of statements\n",
    "- reduces the Lines of Code\n",
    "- **for and while**\n",
    "- syntax:\n",
    "    - for iterator in iterable\n",
    "        - statements goes here\n",
    "    - for num in range(len(iterable))\n",
    "        - statements goes here\n",
    "    "
   ]
  },
  {
   "cell_type": "code",
   "execution_count": 34,
   "metadata": {
    "collapsed": true
   },
   "outputs": [
    {
     "name": "stdout",
     "output_type": "stream",
     "text": [
      "1\n",
      "2\n",
      "3\n",
      "10\n"
     ]
    }
   ],
   "source": [
    "# python program to print the numbers from 1 to 10\n",
    "print(1) # printing the value at their turn\n",
    "print(2)\n",
    "print(3)\n",
    "....\n",
    "print(10)"
   ]
  },
  {
   "cell_type": "code",
   "execution_count": 41,
   "metadata": {
    "collapsed": true
   },
   "outputs": [
    {
     "name": "stdout",
     "output_type": "stream",
     "text": [
      "1\n",
      "2\n",
      "3\n",
      "4\n",
      "5\n",
      "6\n",
      "7\n",
      "8\n",
      "9\n",
      "10\n"
     ]
    }
   ],
   "source": [
    "for num in range(1,11): #num=1,num=2 to 10\n",
    "    print(num) # printing the value"
   ]
  },
  {
   "cell_type": "code",
   "execution_count": 49,
   "metadata": {
    "collapsed": true
   },
   "outputs": [
    {
     "name": "stdout",
     "output_type": "stream",
     "text": [
      "1\n",
      "2\n",
      "3\n",
      "4\n"
     ]
    }
   ],
   "source": [
    "''' 10 iterations\n",
    "1 to 11:11 exclusive 1 to 10:10 values '''\n",
    "        \n",
    "        \n",
    "        \n",
    "x=range(1,5) # 1,2,3,4\n",
    "for num in x:\n",
    "    print(num) # after"
   ]
  },
  {
   "cell_type": "code",
   "execution_count": 50,
   "metadata": {},
   "outputs": [
    {
     "name": "stdout",
     "output_type": "stream",
     "text": [
      "1 2 3 4 "
     ]
    }
   ],
   "source": [
    "for num in x:\n",
    "    print(num,end=\" \")"
   ]
  },
  {
   "cell_type": "code",
   "execution_count": 51,
   "metadata": {
    "collapsed": true
   },
   "outputs": [
    {
     "name": "stdout",
     "output_type": "stream",
     "text": [
      "1\n",
      "2\n",
      "3\n",
      "4\n"
     ]
    }
   ],
   "source": [
    "for num in x:\n",
    "    print(num,end=\"\\n\")"
   ]
  },
  {
   "cell_type": "markdown",
   "metadata": {},
   "source": [
    "#### range()\n",
    "- it will store a range of values\n",
    "- syntax:\n",
    "    - range(stop)\n",
    "        - it will start from 0 by default\n",
    "        - it stores the values from 0 to stop-1\n",
    "    - range(start,stop)\n",
    "        - stores from start to stop-1\n",
    "    - range(start,stop,step_count)\n",
    "        - the skipping position in the range"
   ]
  },
  {
   "cell_type": "code",
   "execution_count": 52,
   "metadata": {},
   "outputs": [
    {
     "name": "stdout",
     "output_type": "stream",
     "text": [
      "0 1 2 3 4 5 6 7 8 9 "
     ]
    }
   ],
   "source": [
    "r=range(10) # 0 to 9\n",
    "for num in r:\n",
    "    print(num,end=\" \")"
   ]
  },
  {
   "cell_type": "code",
   "execution_count": 53,
   "metadata": {},
   "outputs": [
    {
     "name": "stdout",
     "output_type": "stream",
     "text": [
      "lower bound:5\n",
      "upper bound:15\n",
      "5 6 7 8 9 10 11 12 13 14 "
     ]
    }
   ],
   "source": [
    "# lower to upper bound\n",
    "lw,up=int(input(\"lower bound:\")),int(input(\"upper bound:\"))\n",
    "for num in range(lw,up):\n",
    "    print(num,end=\" \")"
   ]
  },
  {
   "cell_type": "code",
   "execution_count": 55,
   "metadata": {
    "collapsed": true
   },
   "outputs": [
    {
     "name": "stdout",
     "output_type": "stream",
     "text": [
      "5 6 7 8 9 10 11 12 13 14 "
     ]
    }
   ],
   "source": [
    "#1 to 10:1+2+3+4+5+=10\n",
    "for num in range(lw,up,1):\n",
    "    print(num,end=\" \")"
   ]
  },
  {
   "cell_type": "code",
   "execution_count": 56,
   "metadata": {
    "collapsed": true
   },
   "outputs": [
    {
     "name": "stdout",
     "output_type": "stream",
     "text": [
      "5 8 11 14 "
     ]
    }
   ],
   "source": [
    "for num in range(lw,up,3): #2 position skipped in this range\n",
    "    print(num,end=\" \")"
   ]
  },
  {
   "cell_type": "code",
   "execution_count": 57,
   "metadata": {},
   "outputs": [
    {
     "name": "stdout",
     "output_type": "stream",
     "text": [
      "2 4 6 8 10 12 14 16 18 20 22 24 26 28 30 32 34 36 38 40 42 44 46 48 50 52 54 56 58 60 62 64 66 68 70 72 74 76 78 80 82 84 86 88 90 92 94 96 98 "
     ]
    }
   ],
   "source": [
    "# print the even no.s present in a given range :1 to 100\n",
    "# even num logic:num%2==0\n",
    "for num in range(1,100):\n",
    "    if num%2==0:\n",
    "        print(num,end=\" \")"
   ]
  },
  {
   "cell_type": "code",
   "execution_count": 58,
   "metadata": {
    "collapsed": true
   },
   "outputs": [
    {
     "name": "stdout",
     "output_type": "stream",
     "text": [
      "2 4 6 8 10 12 14 16 18 20 22 24 26 28 30 32 34 36 38 40 42 44 46 48 50 52 54 56 58 60 62 64 66 68 70 72 74 76 78 80 82 84 86 88 90 92 94 96 98 "
     ]
    }
   ],
   "source": [
    "for num in range(2,100,2): # alternate values\n",
    "    print(num,end=\" \")"
   ]
  },
  {
   "cell_type": "code",
   "execution_count": 59,
   "metadata": {
    "collapsed": true
   },
   "outputs": [
    {
     "name": "stdout",
     "output_type": "stream",
     "text": [
      "1 3 5 7 9 11 13 15 17 19 21 23 25 27 29 31 33 35 37 39 41 43 45 47 49 51 53 55 57 59 61 63 65 67 69 71 73 75 77 79 81 83 85 87 89 91 93 95 97 99 "
     ]
    }
   ],
   "source": [
    "for num in range(1,100,2):\n",
    "    print(num,end=\" \")"
   ]
  },
  {
   "cell_type": "code",
   "execution_count": 62,
   "metadata": {
    "collapsed": true
   },
   "outputs": [
    {
     "name": "stdout",
     "output_type": "stream",
     "text": [
      "4 8 12 16 20 24 28 32 36 40 44 48 52 56 60 64 68 72 76 80 84 88 92 96 "
     ]
    }
   ],
   "source": [
    "for num in range(4,100,4):\n",
    "    print(num,end=\" \")"
   ]
  },
  {
   "cell_type": "code",
   "execution_count": 65,
   "metadata": {
    "collapsed": true
   },
   "outputs": [
    {
     "name": "stdout",
     "output_type": "stream",
     "text": [
      "53\n",
      "A n d h r a   L a y o l a   I n s t i t u t e   o f   E n g i n e e r i n g   a n d   T e c h n o l o g y "
     ]
    }
   ],
   "source": [
    "# iteration of string\n",
    "clg=\"Andhra Layola Institute of Engineering and Technology\"\n",
    "print(len(clg))\n",
    "for ch in clg:\n",
    "    print(ch,end=\" \")"
   ]
  },
  {
   "cell_type": "code",
   "execution_count": 67,
   "metadata": {},
   "outputs": [
    {
     "name": "stdout",
     "output_type": "stream",
     "text": [
      "A d r   a o a I s i u e o   n i e r n   n   e h o o y "
     ]
    }
   ],
   "source": [
    "# print the alternate characters present in the given string\n",
    "for index in range(0,len(clg),2):\n",
    "    print(clg[index],end=\" \")"
   ]
  },
  {
   "cell_type": "code",
   "execution_count": null,
   "metadata": {},
   "outputs": [],
   "source": [
    "# read a number from user and print whether it is prime or not\n",
    "# 5:prime\n",
    "# 9:non prime\n",
    "# 101: prime"
   ]
  }
 ],
 "metadata": {
  "kernelspec": {
   "display_name": "Python 3",
   "language": "python",
   "name": "python3"
  },
  "language_info": {
   "codemirror_mode": {
    "name": "ipython",
    "version": 3
   },
   "file_extension": ".py",
   "mimetype": "text/x-python",
   "name": "python",
   "nbconvert_exporter": "python",
   "pygments_lexer": "ipython3",
   "version": "3.7.4"
  }
 },
 "nbformat": 4,
 "nbformat_minor": 2
}
